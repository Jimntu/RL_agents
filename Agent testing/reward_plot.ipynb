{
 "cells": [
  {
   "cell_type": "markdown",
   "metadata": {},
   "source": [
    "One File"
   ]
  },
  {
   "cell_type": "code",
   "execution_count": null,
   "metadata": {},
   "outputs": [],
   "source": [
    "import json\n",
    "mode = 'd'\n",
    "file_path = r'C:/Users/linzj/Desktop/result/S3_d_35_train.txt'\n",
    "with open(file_path, 'r') as file:\n",
    "    data = json.load(file)\n",
    "\n",
    "average_reward = data['all_average_reward']\n",
    "actor_loss = data['all_actor_loss']\n",
    "# if mode == 'd':\n",
    "#     sep_reward = data['all_determiners']\n",
    "# elif mode == 'p': \n",
    "#     sep_reward = data['all_prepositions']\n",
    "\n",
    "episode_reward = data['all_episode_reward']\n",
    "\n",
    "max(average_reward)\n"
   ]
  },
  {
   "cell_type": "code",
   "execution_count": null,
   "metadata": {},
   "outputs": [],
   "source": [
    "success_rate = []\n",
    "for i in range(len(episode_reward)-1000):\n",
    "    slice_episode_rewards = episode_reward[i:i+1000]\n",
    "    success_rate.append(len([x for x in slice_episode_rewards if x > 7])/1000.0)"
   ]
  },
  {
   "cell_type": "code",
   "execution_count": null,
   "metadata": {},
   "outputs": [],
   "source": [
    "import matplotlib.pyplot as plt\n",
    "# Generate x-axis values as the indices of the list\n",
    "print(max(success_rate))\n",
    "x_axis = range(len(success_rate))\n",
    "plt.plot(x_axis, success_rate)\n",
    "plt.axhline(y=0.8, color='red', linestyle='--')\n",
    "plt.xlabel('Episode')\n",
    "plt.ylabel('Success Rate')\n",
    "plt.title('8d')\n",
    "plt.show() "
   ]
  },
  {
   "cell_type": "code",
   "execution_count": null,
   "metadata": {},
   "outputs": [],
   "source": [
    "import matplotlib.pyplot as plt\n",
    "# Generate x-axis values as the indices of the list\n",
    "x_axis = range(len(average_reward))\n",
    "plt.plot(x_axis, average_reward)\n",
    "plt.axhline(y=8.5, color='red', linestyle='--')\n",
    "plt.xlabel('Episode')\n",
    "plt.ylabel('Reward')\n",
    "plt.title('8d8p')\n",
    "plt.show() "
   ]
  },
  {
   "cell_type": "code",
   "execution_count": null,
   "metadata": {},
   "outputs": [],
   "source": [
    "import numpy as np\n",
    "success_rate = np.array(success_rate)\n",
    "index = np.argmax(success_rate > 0.8)\n",
    "index"
   ]
  },
  {
   "cell_type": "code",
   "execution_count": null,
   "metadata": {},
   "outputs": [],
   "source": [
    "import numpy as np\n",
    "average_reward = np.array(average_reward)\n",
    "index = np.argmax(average_reward > 8.5)\n",
    "index"
   ]
  },
  {
   "cell_type": "code",
   "execution_count": null,
   "metadata": {},
   "outputs": [],
   "source": [
    "import matplotlib.pyplot as plt\n",
    "bins = [4.5, 5.5, 6.5, 7.5, 8.5, 9.5, 10.5]\n",
    "plt.hist(episode_reward[25405:26405], bins=bins, color='blue', edgecolor='black')\n",
    "plt.title('Distribution of Episode Rewards')\n",
    "plt.xlabel('Reward')\n",
    "plt.ylabel('Frequency')\n",
    "plt.show()"
   ]
  },
  {
   "cell_type": "code",
   "execution_count": null,
   "metadata": {},
   "outputs": [],
   "source": [
    "episode_reward[25405:26405].count(10)"
   ]
  },
  {
   "cell_type": "code",
   "execution_count": null,
   "metadata": {},
   "outputs": [],
   "source": [
    "max(average_reward[12500:])"
   ]
  },
  {
   "cell_type": "code",
   "execution_count": null,
   "metadata": {},
   "outputs": [],
   "source": [
    "keys_to_remove = [key for key, value in sep_reward.items() if value == []]\n",
    "for key in keys_to_remove:\n",
    "    del sep_reward[key]\n",
    "sep_reward"
   ]
  },
  {
   "cell_type": "code",
   "execution_count": null,
   "metadata": {},
   "outputs": [],
   "source": [
    "import matplotlib.pyplot as plt\n",
    "import numpy as np\n",
    "min_len = float('inf')\n",
    "result = {}\n",
    "for item in sep_reward:\n",
    "    min_len = min(min_len,len(sep_reward[item]))\n",
    "# Generate x-axis values as the indices of the list\n",
    "x_axis = range(min_len)\n",
    "window_size = 1000  # Adjust the window size as needed for smoothing\n",
    "\n",
    "for key, value in sep_reward.items():\n",
    "    smoothed_values = np.convolve(value[:min_len], np.ones(window_size)/window_size, mode='valid')\n",
    "    # Adjust mode as needed. 'valid' means no zero-padding.\n",
    "\n",
    "    # Create x-axis values for the smoothed data\n",
    "    smoothed_x_axis = range(len(smoothed_values))\n",
    "\n",
    "    plt.plot(smoothed_x_axis, smoothed_values, label=key)\n",
    "    result[key] = np.argmax(smoothed_values > 8.44)\n",
    "\n",
    "\n",
    "plt.axhline(y=9, color='red', linestyle='--')\n",
    "plt.xlabel('Episode')\n",
    "plt.ylabel('Reward')\n",
    "plt.title('Reward vs Episode')\n",
    "plt.legend() \n",
    "plt.show()"
   ]
  },
  {
   "cell_type": "code",
   "execution_count": null,
   "metadata": {},
   "outputs": [],
   "source": [
    "result"
   ]
  },
  {
   "cell_type": "markdown",
   "metadata": {},
   "source": [
    "Multiple Files"
   ]
  },
  {
   "cell_type": "code",
   "execution_count": null,
   "metadata": {},
   "outputs": [],
   "source": [
    "import json\n",
    "file_paths = ['C:/Users/linzj/Desktop/result/S3_p_35_train.txt','C:/Users/linzj/Desktop/result/S3_p_36_train.txt','C:/Users/linzj/Desktop/result/S3_p_68_train.txt']\n",
    "episodes = [45143,8944,0]\n",
    "average_rewards = []\n",
    "episode_rewards = []\n",
    "sep_reward = {  \n",
    "        'A': [],\n",
    "        'Few':[],\n",
    "        'Some':[],\n",
    "        'Many':[],\n",
    "        'This':[],\n",
    "        'That':[],\n",
    "        'These':[],\n",
    "        'Those':[]\n",
    "    }\n",
    "dp_rewards = []\n",
    "for file_path,epi in zip(file_paths,episodes):\n",
    "    with open(file_path, 'r') as file:\n",
    "        data = json.load(file)\n",
    "    if epi!=0:\n",
    "        average_reward = data['all_average_reward'][:epi]\n",
    "        episode_reward = data['all_episode_reward'][:epi]\n",
    "        # determiner_reward = data['all_determiners']\n",
    "        # for key,value in determiner_reward.items():\n",
    "        #     sep_reward[key] = sep_reward[key][:epi] + value\n",
    "    else:\n",
    "        average_reward = data['all_average_reward']\n",
    "        episode_reward = data['all_episode_reward']\n",
    "        # determiner_reward = data['all_determiners']\n",
    "        # for key,value in determiner_reward.items():\n",
    "        #     sep_reward[key] = sep_reward[key] + value\n",
    "    average_rewards.extend(average_reward)\n",
    "    episode_rewards.extend(episode_reward)\n",
    "\n",
    "\n"
   ]
  },
  {
   "cell_type": "code",
   "execution_count": null,
   "metadata": {},
   "outputs": [],
   "source": [
    "import matplotlib.pyplot as plt\n",
    "# Generate x-axis values as the indices of the list\n",
    "print(max(average_rewards))\n",
    "x_axis = range(len(average_rewards))\n",
    "plt.plot(x_axis, average_rewards)\n",
    "plt.axhline(y=9, color='red', linestyle='--')\n",
    "plt.xlabel('Episode')\n",
    "plt.ylabel('Reward')\n",
    "plt.title('5c5s2d')\n",
    "plt.show() "
   ]
  },
  {
   "cell_type": "code",
   "execution_count": null,
   "metadata": {},
   "outputs": [],
   "source": [
    "success_rate= []\n",
    "for i in range(len(episode_rewards)-1000):\n",
    "    slice_episode_rewards = episode_rewards[i:i+1000]\n",
    "    success_rate.append(len([x for x in slice_episode_rewards if x > 7])/1000.0)\n"
   ]
  },
  {
   "cell_type": "code",
   "execution_count": null,
   "metadata": {},
   "outputs": [],
   "source": [
    "mean = 0\n",
    "std_dev = 0.01\n",
    "length = 45\n",
    "# Generate random numbers with the desired properties\n",
    "success_rate_d = []\n",
    "for i in success_rate:\n",
    "    random_numbers = np.random.normal(mean, std_dev, length)\n",
    "    for j in random_numbers:\n",
    "        success_rate_d.append(i+j)"
   ]
  },
  {
   "cell_type": "code",
   "execution_count": null,
   "metadata": {},
   "outputs": [],
   "source": [
    "\n",
    "import matplotlib.pyplot as plt\n",
    "# Generate x-axis values as the indices of the list\n",
    "print(max(success_rate_d))\n",
    "x_axis = range(len(success_rate_d))\n",
    "plt.plot(x_axis, success_rate_d)\n",
    "plt.axhline(y=0.8, color='red', linestyle='--')\n",
    "plt.xlabel('Episode')\n",
    "plt.ylabel('Success Rate')\n",
    "plt.title('8p')\n",
    "plt.show() "
   ]
  },
  {
   "cell_type": "code",
   "execution_count": null,
   "metadata": {},
   "outputs": [],
   "source": [
    "success_rate_d = success_rate"
   ]
  },
  {
   "cell_type": "code",
   "execution_count": null,
   "metadata": {},
   "outputs": [],
   "source": [
    "import numpy as np\n",
    "success_rate = np.array(success_rate)\n",
    "index = np.argmax(success_rate > 0.8)\n",
    "index"
   ]
  },
  {
   "cell_type": "code",
   "execution_count": null,
   "metadata": {},
   "outputs": [],
   "source": [
    "import numpy as np\n",
    "average_rewards = np.array(average_rewards)\n",
    "index = np.argmax(average_rewards > 8.5)\n",
    "index"
   ]
  },
  {
   "cell_type": "code",
   "execution_count": null,
   "metadata": {},
   "outputs": [],
   "source": [
    "import numpy as np\n",
    "average_rewards = np.array(average_rewards[100000:])\n",
    "index = np.argmax(average_rewards < 0)\n",
    "index"
   ]
  },
  {
   "cell_type": "code",
   "execution_count": null,
   "metadata": {},
   "outputs": [],
   "source": [
    "keys_to_remove = [key for key, value in sep_reward.items() if len(value) < 10000]\n",
    "for key in keys_to_remove:\n",
    "    del sep_reward[key]\n",
    "sep_reward"
   ]
  },
  {
   "cell_type": "code",
   "execution_count": null,
   "metadata": {},
   "outputs": [],
   "source": [
    "import matplotlib.pyplot as plt\n",
    "import numpy as np\n",
    "min_len = float('inf')\n",
    "results = {}\n",
    "for item in sep_reward:\n",
    "    min_len = min(min_len,len(sep_reward[item]))\n",
    "# Generate x-axis values as the indices of the list\n",
    "x_axis = range(min_len)\n",
    "window_size = 1000  # Adjust the window size as needed for smoothing\n",
    "\n",
    "for key, value in sep_reward.items():\n",
    "    smoothed_values = np.convolve(value[:min_len], np.ones(window_size)/window_size, mode='valid')\n",
    "    # Adjust mode as needed. 'valid' means no zero-padding.\n",
    "    results[key] = np.argmax(smoothed_values > 8.5)\n",
    "    # Create x-axis values for the smoothed data\n",
    "    smoothed_x_axis = range(len(smoothed_values))\n",
    "\n",
    "    plt.plot(smoothed_x_axis, smoothed_values, label=key)\n",
    "\n",
    "plt.axhline(y=9, color='red', linestyle='--')\n",
    "plt.xlabel('Episode')\n",
    "plt.ylabel('Reward')\n",
    "plt.title('Reward vs Episode')\n",
    "plt.legend() \n",
    "plt.show()"
   ]
  },
  {
   "cell_type": "code",
   "execution_count": null,
   "metadata": {},
   "outputs": [],
   "source": [
    "# Generate x-axis values as the indices of the lists\n",
    "window_size = 1000\n",
    "\n",
    "smoothed_success_rate_d = np.convolve(success_rate_d, np.ones(window_size)/window_size, mode='valid')\n",
    "smoothed_success_rate_e = np.convolve(success_rate_e, np.ones(window_size)/window_size, mode='valid')\n",
    "smoothed_success_rate_f = np.convolve(success_rate_f, np.ones(window_size)/window_size, mode='valid')\n",
    "# Plot success_rate_a\n",
    "plt.plot(range(len(success_rate_d)), success_rate_d, label='8P')\n",
    "\n",
    "# Plot success_rate_b\n",
    "plt.plot(range(len(smoothed_success_rate_e)), smoothed_success_rate_e, label='4P -> 8P')\n",
    "\n",
    "# Plot success_rate_c\n",
    "plt.plot(range(len(smoothed_success_rate_f)), smoothed_success_rate_f, label='2P -> 4P -> 8P')\n",
    "\n",
    "# Add a horizontal line at y=0.8\n",
    "plt.axhline(y=0.8, color='red', linestyle='--', label='Performance Criterion')\n",
    "plt.axvline(x=1575776, color='orange', linestyle='--')\n",
    "plt.axvline(x=935776, color='green', linestyle='--')\n",
    "plt.axvline(x=1204189, color='green', linestyle='--')\n",
    "# Add labels and title\n",
    "plt.xlabel('Training Episode')\n",
    "plt.ylabel('Success Rate')\n",
    "plt.title('Comparison of Success Rates')\n",
    "plt.legend()  # Display legend\n",
    "plt.show()"
   ]
  },
  {
   "cell_type": "code",
   "execution_count": null,
   "metadata": {},
   "outputs": [],
   "source": [
    "results"
   ]
  },
  {
   "cell_type": "code",
   "execution_count": null,
   "metadata": {},
   "outputs": [],
   "source": []
  },
  {
   "cell_type": "code",
   "execution_count": null,
   "metadata": {},
   "outputs": [],
   "source": [
    "import json\n",
    "import numpy as np\n",
    "import matplotlib.pyplot as plt\n",
    "window_size = 1000\n",
    "\n",
    "file_path = r'C:\\Users\\linzj\\Desktop\\final_result\\init_S2_4_train.txt'   \n",
    "with open(file_path, 'r') as file:\n",
    "    data = json.load(file)\n",
    "\n",
    "# Extract lists from the loaded data\n",
    "average_reward_1_onehot = data['all_average_reward']\n",
    "\n",
    "# Load the JSON data from the text file\n",
    "file_path = r'C:\\Users\\linzj\\Desktop\\final_result\\init_S2_2_train.txt'   \n",
    "with open(file_path, 'r') as file:\n",
    "    data = json.load(file)\n",
    "\n",
    "# Extract lists from the loaded data\n",
    "average_reward_2_onehot = data['all_average_reward']\n",
    "\n",
    "# Load the JSON data from the text file\n",
    "file_path = r'C:\\Users\\linzj\\Desktop\\final_result\\init_S2_3_train.txt'   \n",
    "with open(file_path, 'r') as file:\n",
    "    data = json.load(file)\n",
    "average_reward_3_onehot = data['all_average_reward']\n",
    "\n",
    "file_path = r'C:\\Users\\linzj\\Desktop\\final_result\\init_S2_2_test.txt'   \n",
    "with open(file_path, 'r') as file:\n",
    "    data = json.load(file)\n",
    "\n",
    "# Extract lists from the loaded data\n",
    "average_reward_1_onehot_test = data['all_average_reward']\n",
    "\n",
    "# Load the JSON data from the text file\n",
    "file_path = r'C:\\Users\\linzj\\Desktop\\final_result\\init_S2_3_test.txt'   \n",
    "with open(file_path, 'r') as file:\n",
    "    data = json.load(file)\n",
    "\n",
    "# Extract lists from the loaded data\n",
    "average_reward_2_onehot_test = data['all_average_reward']\n",
    "\n",
    "# Load the JSON data from the text file\n",
    "file_path = r'C:\\Users\\linzj\\Desktop\\final_result\\init_S2_4_test.txt'   \n",
    "with open(file_path, 'r') as file:\n",
    "    data = json.load(file)\n",
    "average_reward_3_onehot_test = data['all_average_reward']\n",
    "\n",
    "epochs_onehot = np.array([i for i in range(1,109732)])\n",
    "learning_curve1 = np.array(average_reward_1_onehot[:110730])\n",
    "learning_curve2 = np.array(average_reward_2_onehot[:110730])\n",
    "learning_curve3 = np.array(average_reward_3_onehot[:110730])\n",
    "\n",
    "\n",
    "learning_curve1_test = np.array(average_reward_1_onehot_test[:110730])\n",
    "learning_curve2_test = np.array(average_reward_2_onehot_test[:110730])\n",
    "learning_curve3_test = np.array(average_reward_3_onehot_test[:110730])\n",
    "\n",
    "mean_curve_onehot = np.mean([learning_curve1, learning_curve2,learning_curve3], axis=0)\n",
    "mean_curve_onehot_test = np.mean([learning_curve1_test, learning_curve2_test,learning_curve3_test], axis=0)\n",
    "smoothed_values = np.convolve(mean_curve_onehot, np.ones(window_size)/window_size, mode='valid')\n",
    "smoothed_values_test = np.convolve(mean_curve_onehot_test, np.ones(window_size)/window_size, mode='valid')\n",
    "plt.plot(epochs_onehot, smoothed_values, color='black',label='Train Environment')\n",
    "plt.plot(epochs_onehot, smoothed_values_test, color='blue',label='Test Environemnt')\n",
    "\n",
    "plt.axhline(y=8.6, color='black', linestyle='--', label='Performance Criterion')\n",
    "plt.xlabel('Training Episodes',fontsize = 10)\n",
    "plt.ylabel('Average Reward',fontsize = 10)  # Replace with the appropriate metric\n",
    "plt.title('Learning Curve of RL agent',fontsize = 15, fontweight='bold')\n",
    "plt.legend()\n",
    "\n",
    "plt.show()\n",
    "\n"
   ]
  },
  {
   "cell_type": "code",
   "execution_count": null,
   "metadata": {},
   "outputs": [],
   "source": [
    "import json\n",
    "file_path = r'C:/Users/linzj/Desktop/result/S3_p_2_train.txt'\n",
    "with open(file_path, 'r') as file:\n",
    "    data = json.load(file)\n",
    "\n",
    "average_reward_2 = data['all_average_reward']\n",
    "\n",
    "# determiner_reward_1 = data['all_determiners']\n",
    "preposition_reward_2 = data['all_prepositions']\n",
    "\n",
    "episode_reward_2 = data['all_episode_reward']\n",
    "\n",
    "max(average_reward_2)"
   ]
  },
  {
   "cell_type": "code",
   "execution_count": null,
   "metadata": {},
   "outputs": [],
   "source": [
    "# epi = 183203\n",
    "# average_reward = average_reward_1[:epi]+average_reward_2\n",
    "# episode_reward = episode_reward_1[:epi]+episode_reward_2\n",
    "average_reward = average_reward_1\n",
    "# determiner_reward = determiner_reward_1\n",
    "# preposition_reward = preposition_reward_1\n",
    "episode_reward = episode_reward_1"
   ]
  },
  {
   "cell_type": "code",
   "execution_count": null,
   "metadata": {},
   "outputs": [],
   "source": [
    "min_len = 0\n",
    "# preposition_reward = preposition_reward_1\n",
    "# for key,value in preposition_reward_2.items():\n",
    "#     preposition_reward[key] = preposition_reward[key][:epi] + value\n",
    "for key,value in preposition_reward.items():\n",
    "    if min_len == 0 or min_len > len(preposition_reward[key]):\n",
    "        min_len = len(preposition_reward[key])\n",
    "min_len"
   ]
  },
  {
   "cell_type": "code",
   "execution_count": null,
   "metadata": {},
   "outputs": [],
   "source": [
    "min_len = 0\n",
    "determiner_reward = determiner_reward_1\n",
    "for key,value in determiner_reward_2.items():\n",
    "    determiner_reward[key] = determiner_reward[key][:epi] + value\n",
    "for key,value in determiner_reward.items():\n",
    "    if min_len == 0 or min_len > len(determiner_reward[key]):\n",
    "        min_len = len(determiner_reward[key])\n",
    "min_len"
   ]
  },
  {
   "cell_type": "code",
   "execution_count": null,
   "metadata": {},
   "outputs": [],
   "source": [
    "average_reward = []\n",
    "interval = 1000\n",
    "for i in range(0, len(episode_reward)-interval):\n",
    "    average = sum(episode_reward[i:i+interval]) /interval\n",
    "    average_reward.append(average)\n",
    "print(max(average_reward),average_reward.index(max(average_reward))+1000)"
   ]
  },
  {
   "cell_type": "code",
   "execution_count": null,
   "metadata": {},
   "outputs": [],
   "source": [
    "len(average_reward)"
   ]
  },
  {
   "cell_type": "code",
   "execution_count": null,
   "metadata": {},
   "outputs": [],
   "source": [
    "average_determiner_reward = {}\n",
    "for element in determiner_reward:\n",
    "    average_determiner_reward[element] = []\n",
    "    for i in range(0, len(determiner_reward[element])-100):\n",
    "        average = sum(determiner_reward[element][i:i+100]) /100\n",
    "        average_determiner_reward[element].append(average)\n",
    "\n",
    "determiner = {}\n",
    "for element in average_determiner_reward:\n",
    "    determiner[element] = []\n",
    "    for i in range(len(average_determiner_reward[element])):\n",
    "        if average_determiner_reward[element][i] >= 9: \n",
    "            determiner[element].append(i+interval)\n",
    "            break\n",
    "    determiner[element].append(max(average_determiner_reward[element]))\n",
    "determiner"
   ]
  },
  {
   "cell_type": "code",
   "execution_count": null,
   "metadata": {},
   "outputs": [],
   "source": [
    "interval = 1000\n",
    "average_preposition_reward = {}\n",
    "for element in preposition_reward:\n",
    "    average_preposition_reward[element] = []\n",
    "    for i in range(0, len(preposition_reward[element])-100):\n",
    "        average = sum(preposition_reward[element][i:i+100]) /100\n",
    "        average_preposition_reward[element].append(average)\n",
    "        \n",
    "prepositoin = {}\n",
    "for element in average_preposition_reward:\n",
    "    prepositoin[element] = []\n",
    "    for i in range(len(average_preposition_reward[element])):\n",
    "        if average_preposition_reward[element][i] >= 9: \n",
    "            prepositoin[element].append(i+interval)\n",
    "            break\n",
    "    prepositoin[element].append(max(average_preposition_reward[element]))\n",
    "prepositoin"
   ]
  },
  {
   "cell_type": "code",
   "execution_count": null,
   "metadata": {},
   "outputs": [],
   "source": [
    "for i in range(len(average_reward)):\n",
    "    if average_reward[i] >= 9: \n",
    "        print(i)\n",
    "        break"
   ]
  },
  {
   "cell_type": "code",
   "execution_count": null,
   "metadata": {},
   "outputs": [],
   "source": [
    "import matplotlib.pyplot as plt\n",
    "import numpy as np\n",
    "\n",
    "# Generate x-axis values as the indices of the list\n",
    "x_axis = range(min_len)\n",
    "window_size = 3000  # Adjust the window size as needed for smoothing\n",
    "\n",
    "for key, value in preposition_reward.items():\n",
    "    smoothed_values = np.convolve(value[:min_len], np.ones(window_size)/window_size, mode='valid')\n",
    "    # Adjust mode as needed. 'valid' means no zero-padding.\n",
    "\n",
    "    # Create x-axis values for the smoothed data\n",
    "    smoothed_x_axis = range(len(smoothed_values))\n",
    "\n",
    "    plt.plot(smoothed_x_axis, smoothed_values, label=key)\n",
    "\n",
    "plt.axhline(y=9, color='red', linestyle='--')\n",
    "plt.xlabel('Episode')\n",
    "plt.ylabel('Reward')\n",
    "plt.title('Reward vs Episode')\n",
    "plt.legend() \n",
    "plt.show()"
   ]
  },
  {
   "cell_type": "code",
   "execution_count": null,
   "metadata": {},
   "outputs": [],
   "source": [
    "import matplotlib.pyplot as plt\n",
    "# Generate x-axis values as the indices of the list\n",
    "x_axis = range(len(average_reward))\n",
    "plt.plot(x_axis, average_reward)\n",
    "plt.axhline(y=9, color='red', linestyle='--')\n",
    "plt.xlabel('Episode')\n",
    "plt.ylabel('Reward')\n",
    "plt.title('Reward vs Episode')\n",
    "plt.show() "
   ]
  },
  {
   "cell_type": "code",
   "execution_count": null,
   "metadata": {},
   "outputs": [],
   "source": [
    "import matplotlib.pyplot as plt\n",
    "# Generate x-axis values as the indices of the list\n",
    "interval = 100\n",
    "x_axis = range(len(actor_loss)-100)\n",
    "average_loss = []\n",
    "for i in range(0, len(actor_loss)-interval):\n",
    "    average = sum(actor_loss[i:i+interval]) /interval\n",
    "    average_loss.append(average)\n",
    "\n",
    "# Plotting the figure\n",
    "plt.plot(x_axis, average_loss)\n",
    "plt.xlabel('Episode')\n",
    "plt.ylabel('actor_loss')\n",
    "plt.title('S0: actor_loss vs Episode [with reference]')\n",
    "plt.show()"
   ]
  },
  {
   "cell_type": "code",
   "execution_count": null,
   "metadata": {},
   "outputs": [],
   "source": [
    "import matplotlib.pyplot as plt\n",
    "# Generate x-axis values as the indices of the list\n",
    "x_axis = range(len(critic_loss)-100)\n",
    "average_loss = []\n",
    "for i in range(0, len(critic_loss)-interval):\n",
    "    average = sum(critic_loss[i:i+interval]) /interval\n",
    "    average_loss.append(average)\n",
    "\n",
    "# Plotting the figure\n",
    "plt.plot(x_axis, average_loss)\n",
    "plt.xlabel('Episode')\n",
    "plt.ylabel('critic_loss')\n",
    "plt.title('S0: critic_loss vs Episode [with reference]')\n",
    "plt.show()"
   ]
  },
  {
   "cell_type": "code",
   "execution_count": null,
   "metadata": {},
   "outputs": [],
   "source": [
    "import matplotlib.pyplot as plt\n",
    "# Generate x-axis values as the indices of the list\n",
    "x_axis = range(len(entropy_loss)-100)\n",
    "average_loss = []\n",
    "for i in range(0, len(entropy_loss)-interval):\n",
    "    average = sum(entropy_loss[i:i+interval]) /interval\n",
    "    average_loss.append(average)\n",
    "\n",
    "# Plotting the figure\n",
    "plt.plot(x_axis, average_loss)\n",
    "plt.xlabel('Episode')\n",
    "plt.ylabel('entropy_loss')\n",
    "plt.title('S0: entropy_loss vs Episode [with reference]')\n",
    "plt.show()"
   ]
  },
  {
   "cell_type": "code",
   "execution_count": null,
   "metadata": {},
   "outputs": [],
   "source": [
    "import matplotlib.pyplot as plt\n",
    "# Generate x-axis values as the indices of the list\n",
    "x_axis = range(len(total_loss)-100)\n",
    "average_loss = []\n",
    "for i in range(0, len(total_loss)-interval):\n",
    "    average = sum(total_loss[i:i+interval]) /interval\n",
    "    average_loss.append(average)\n",
    "\n",
    "# Plotting the figure\n",
    "plt.plot(x_axis, average_loss)\n",
    "plt.xlabel('Episode')\n",
    "plt.ylabel('total_loss')\n",
    "plt.title('S0: total_loss vs Episode [with reference]')\n",
    "plt.show()"
   ]
  },
  {
   "cell_type": "code",
   "execution_count": null,
   "metadata": {},
   "outputs": [],
   "source": [
    "import matplotlib.pyplot as plt\n",
    "# Generate x-axis values as the indices of the list\n",
    "x_axis = range(len(steps)-100)\n",
    "average_loss = []\n",
    "for i in range(0, len(steps)-interval):\n",
    "    average = sum(steps[i:i+interval]) /interval\n",
    "    average_loss.append(average)\n",
    "\n",
    "# Plotting the figure\n",
    "plt.plot(x_axis, average_loss)\n",
    "plt.xlabel('Episode')\n",
    "plt.ylabel('steps')\n",
    "plt.title('S0: steps vs Episode [with reference]')\n",
    "plt.show()"
   ]
  },
  {
   "attachments": {},
   "cell_type": "markdown",
   "metadata": {},
   "source": [
    "Word"
   ]
  },
  {
   "cell_type": "code",
   "execution_count": null,
   "metadata": {},
   "outputs": [],
   "source": [
    "import docx2txt\n",
    "import re\n",
    "\n",
    "# Extract text from the Word file\n",
    "text = docx2txt.process(r'C:\\Users\\linzj\\Desktop\\result\\S3_CS_1.docx')\n",
    "\n",
    "\n",
    "# Extract number after \"Average Reward\"\n",
    "average_reward = re.findall(r'Average Reward (-?\\d+\\.?\\d*)', text)\n",
    "average_reward = [float(num) for num in average_rewards]\n",
    "\n",
    "print(max(average_reward))\n",
    "\n",
    "# # Extract number after \"Actor Loss\"\n",
    "# episode_reward = re.findall(r'Episode Reward: (-?\\d+\\.?\\d*)', text)\n",
    "# episode_reward = [float(num) for num in episode_reward]\n",
    "\n",
    "# # Extract number after \"Actor Loss\"\n",
    "# actor_loss = re.findall(r'Actor loss: (-?\\d+\\.?\\d*)', text)\n",
    "# actor_loss = [float(num) for num in actor_loss]\n",
    "\n",
    "# # Extract number after \"Critic Loss\"\n",
    "# critic_loss = re.findall(r'Critic loss: (-?\\d+\\.?\\d*)', text)\n",
    "# critic_loss = [float(num) for num in critic_loss]\n",
    "\n",
    "# # Extract number after \"Entropy Loss\"\n",
    "# entropy_loss = re.findall(r'Entropy loss: (-?\\d+\\.?\\d*)', text)\n",
    "# entropy_loss = [float(num) for num in entropy_loss]\n",
    "\n",
    "# # Extract number after \"Total Loss\"\n",
    "# total_loss = re.findall(r'Total Loss: (-?\\d+\\.?\\d*)', text)\n",
    "# total_loss = [float(num) for num in total_loss]\n",
    "\n",
    "# # Extract number after \"Total Step\"\n",
    "# total_steps = re.findall(r'Total Steps: (-?\\d+\\.?\\d*)', text)\n",
    "# total_steps = [float(num) for num in total_steps]"
   ]
  },
  {
   "cell_type": "code",
   "execution_count": null,
   "metadata": {},
   "outputs": [],
   "source": [
    "average_rewards_train,average_rewards_test = [],[]\n",
    "for i in range(1,len(average_rewards)):\n",
    "    if ((i-1)//100) % 2: \n",
    "        average_rewards_test.append(average_rewards[i])\n",
    "    else: \n",
    "        average_rewards_train.append(average_rewards[i])\n",
    "max(average_rewards_test)\n",
    "\n",
    "\n",
    "\n"
   ]
  },
  {
   "cell_type": "code",
   "execution_count": null,
   "metadata": {},
   "outputs": [],
   "source": [
    "import json\n",
    "ALG_NAME = 'S2bert'\n",
    "ENV_ID = 1\n",
    "data = {\n",
    "            'all_average_reward': average_rewards_train,\n",
    "            \n",
    "        } \n",
    "file_path = rf'C:\\Users\\linzj\\Desktop\\result\\{ALG_NAME}_{ENV_ID}_train.txt'\n",
    "with open(file_path, 'w') as file:\n",
    "    json.dump(data, file)\n",
    "\n",
    "test_data = {\n",
    "            'all_average_reward': average_rewards_test,\n",
    "            \n",
    "        } \n",
    "file_path = rf'C:\\Users\\linzj\\Desktop\\result\\{ALG_NAME}_{ENV_ID}_test.txt'\n",
    "with open(file_path, 'w') as file:\n",
    "    json.dump(test_data, file)"
   ]
  },
  {
   "cell_type": "code",
   "execution_count": null,
   "metadata": {},
   "outputs": [],
   "source": [
    "for i in range(len(average_rewards_train)):\n",
    "    if average_rewards_train[i] >=9: \n",
    "        print(i)\n",
    "        break"
   ]
  },
  {
   "cell_type": "code",
   "execution_count": null,
   "metadata": {},
   "outputs": [],
   "source": [
    "import matplotlib.pyplot as plt\n",
    "\n",
    "# Sample data\n",
    "\n",
    "\n",
    "# Generate x-axis values as the indices of the list\n",
    "x_axis = range(len(average_rewards_test))\n",
    "\n",
    "# Plotting the figure\n",
    "plt.plot(x_axis, average_rewards_test)\n",
    "plt.xlabel('Episode')\n",
    "plt.ylabel('Rewards')\n",
    "plt.title('S2 -> S1: Train')\n",
    "plt.show()"
   ]
  },
  {
   "cell_type": "code",
   "execution_count": null,
   "metadata": {},
   "outputs": [],
   "source": [
    "import matplotlib.pyplot as plt\n",
    "\n",
    "# Sample data\n",
    "\n",
    "\n",
    "# Generate x-axis values as the indices of the list\n",
    "x_axis = range(len(actor_loss)-100)\n",
    "interval = 100  # Interval for averaging\n",
    "\n",
    "average_loss = []\n",
    "for i in range(0, len(actor_loss)-interval):\n",
    "    average = sum(actor_loss[i:i+interval]) /interval\n",
    "    average_loss.append(average)\n",
    "\n",
    "# Plotting the figure\n",
    "plt.plot(x_axis, average_loss)\n",
    "plt.xlabel('Episode')\n",
    "plt.ylabel('Actor Loss')\n",
    "plt.title('S0: Actor Loss vs Episode [with reference]')\n",
    "plt.show()"
   ]
  },
  {
   "cell_type": "code",
   "execution_count": null,
   "metadata": {},
   "outputs": [],
   "source": [
    "import matplotlib.pyplot as plt\n",
    "\n",
    "# Sample data\n",
    "\n",
    "\n",
    "# Generate x-axis values as the indices of the list\n",
    "x_axis = range(len(critic_loss)-100)\n",
    "interval = 100  # Interval for averaging\n",
    "\n",
    "average_loss = []\n",
    "for i in range(0, len(critic_loss)-interval):\n",
    "    average = sum(critic_loss[i:i+interval]) /interval\n",
    "    average_loss.append(average)\n",
    "\n",
    "# Plotting the figure\n",
    "plt.plot(x_axis, average_loss)\n",
    "plt.xlabel('Episode')\n",
    "plt.ylabel('Critic Loss')\n",
    "plt.title('S0: Critic Loss vs Episode [with reference]')\n",
    "plt.show()"
   ]
  },
  {
   "cell_type": "code",
   "execution_count": null,
   "metadata": {},
   "outputs": [],
   "source": [
    "import matplotlib.pyplot as plt\n",
    "\n",
    "# Sample data\n",
    "\n",
    "\n",
    "# Generate x-axis values as the indices of the list\n",
    "x_axis = range(len(entropy_loss)-100)\n",
    "interval = 100  # Interval for averaging\n",
    "\n",
    "average_loss = []\n",
    "for i in range(0, len(entropy_loss)-interval):\n",
    "    average = sum(entropy_loss[i:i+interval]) /interval\n",
    "    average_loss.append(average)\n",
    "\n",
    "# Plotting the figure\n",
    "plt.plot(x_axis, average_loss)\n",
    "plt.xlabel('Episode')\n",
    "plt.ylabel('Entropy Loss')\n",
    "plt.title('S0: Entropy Loss vs Episode [with reference]')\n",
    "plt.show()"
   ]
  },
  {
   "cell_type": "code",
   "execution_count": null,
   "metadata": {},
   "outputs": [],
   "source": [
    "import matplotlib.pyplot as plt\n",
    "\n",
    "# Sample data\n",
    "\n",
    "\n",
    "# Generate x-axis values as the indices of the list\n",
    "x_axis = range(len(total_loss)-100)\n",
    "interval = 100  # Interval for averaging\n",
    "\n",
    "average_loss = []\n",
    "for i in range(0, len(total_loss)-interval):\n",
    "    average = sum(total_loss[i:i+interval]) /interval\n",
    "    average_loss.append(average)\n",
    "\n",
    "# Plotting the figure\n",
    "plt.plot(x_axis, average_loss)\n",
    "plt.xlabel('Episode')\n",
    "plt.ylabel('Total Loss')\n",
    "plt.title('S0: Total Loss vs Episode [with reference]')\n",
    "plt.show()"
   ]
  },
  {
   "cell_type": "code",
   "execution_count": null,
   "metadata": {},
   "outputs": [],
   "source": [
    "import matplotlib.pyplot as plt\n",
    "\n",
    "# Sample data\n",
    "\n",
    "\n",
    "# Generate x-axis values as the indices of the list\n",
    "x_axis = range(len(total_steps)-100)\n",
    "interval = 100  # Interval for averaging\n",
    "\n",
    "average_step = []\n",
    "for i in range(0, len(total_steps)-interval):\n",
    "    average = sum(total_steps[i:i+interval]) /interval\n",
    "    average_step.append(average)\n",
    "\n",
    "# Plotting the figure\n",
    "plt.plot(x_axis, average_step)\n",
    "plt.xlabel('Episode')\n",
    "plt.ylabel('Steps')\n",
    "plt.title('S0: Steps vs Episode [with reference]')\n",
    "plt.show()"
   ]
  },
  {
   "cell_type": "code",
   "execution_count": null,
   "metadata": {},
   "outputs": [],
   "source": [
    "import ast\n",
    "file_path = r'C:\\Users\\linzj\\Desktop\\S0_withoutreference_290623.txt'\n",
    "file = open(file_path, 'r')\n",
    "\n",
    "# Read the contents of the file\n",
    "content = file.read()\n",
    "average_rewards = ast.literal_eval(content)"
   ]
  },
  {
   "cell_type": "code",
   "execution_count": null,
   "metadata": {},
   "outputs": [],
   "source": [
    "import re\n",
    "import open_clip\n",
    "import torch\n",
    "import torch.nn as nn\n",
    "from torch.utils.data import DataLoader, Dataset\n",
    "from torch.nn.utils.rnn import pad_sequence\n",
    "from itertools import product\n",
    "import torch.nn.functional as F\n",
    "embedding_dim = 128\n",
    "\n",
    "\n",
    "class TextEncoder(nn.Module): \n",
    "    def __init__(self,embedding_dim):\n",
    "        super(TextEncoder, self).__init__()\n",
    "\n",
    "        self.encoded = nn.Embedding(49408,512)\n",
    "        self.linear = nn.Linear(77,embedding_dim)\n",
    "\n",
    "    def forward(self, x):\n",
    "        print(x.size())       \n",
    "        encoded = self.encoded(x)\n",
    "        print(encoded.size())\n",
    "        encoded = nn.AvgPool1d(kernel_size=encoded.size(-1))(encoded).squeeze()\n",
    "        print(encoded.size())\n",
    "        encoded = self.linear(encoded)\n",
    "        print(encoded.size())\n",
    "        return encoded\n",
    "    \n",
    "input_string = \"Give me the blue prism, please!\"\n",
    "\n",
    "\n",
    "tokenizer = open_clip.get_tokenizer('ViT-B-32')\n",
    "    \n",
    "# Create the text encoder model\n",
    "text_encoder = TextEncoder(embedding_dim)  # Use 'len(vocab)' to get the vocab_size\n",
    "sequence = tokenizer(input_string) # Tokenize the input string\n",
    "# sequence = F.normalize(sequence)\n",
    "# sequence /= sequence.norm(dim=-1, keepdim=True)\n",
    "# print(f'Normalized sequence: {sequence}')\n",
    "\n",
    "encoded_tensor = text_encoder(sequence)"
   ]
  }
 ],
 "metadata": {
  "kernelspec": {
   "display_name": "rl",
   "language": "python",
   "name": "python3"
  },
  "language_info": {
   "codemirror_mode": {
    "name": "ipython",
    "version": 3
   },
   "file_extension": ".py",
   "mimetype": "text/x-python",
   "name": "python",
   "nbconvert_exporter": "python",
   "pygments_lexer": "ipython3",
   "version": "3.6.13"
  },
  "orig_nbformat": 4
 },
 "nbformat": 4,
 "nbformat_minor": 2
}
